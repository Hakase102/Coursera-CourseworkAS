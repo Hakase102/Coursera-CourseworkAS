{
    "cells": [
        {
            "cell_type": "markdown",
            "metadata": {
                "collapsed": true
            },
            "source": "<h1 align=\"center\"><font size=\"5\"> Peer-graded Assignment: Capstone Project Notebook</font></h1>\n<h1 align=\"center\"><font size=\"5\"> By Anthony Swain</font></h1>"
        },
        {
            "cell_type": "markdown",
            "metadata": {},
            "source": " "
        },
        {
            "cell_type": "markdown",
            "metadata": {},
            "source": "<h3>1. Write some markdown to explain that this notebook will be mainly used for the capstone project.</h3>"
        },
        {
            "cell_type": "markdown",
            "metadata": {},
            "source": "This is some simple markdown to explain this notebook will be mainly used for the capstone project."
        },
        {
            "cell_type": "markdown",
            "metadata": {},
            "source": "<h3>2. Import the pandas library as pd.</h3>"
        },
        {
            "cell_type": "code",
            "execution_count": 3,
            "metadata": {},
            "outputs": [
                {
                    "name": "stdout",
                    "output_type": "stream",
                    "text": "Sucessful\n"
                }
            ],
            "source": "#Code to import pandas as pd. \nimport pandas as pd\nprint(\"Sucessful\")"
        },
        {
            "cell_type": "markdown",
            "metadata": {},
            "source": "<h3>3. Import the Numpy library as np.</h3>"
        },
        {
            "cell_type": "code",
            "execution_count": 4,
            "metadata": {},
            "outputs": [
                {
                    "name": "stdout",
                    "output_type": "stream",
                    "text": "Sucessful\n"
                }
            ],
            "source": "#Code to import numpy as np. \nimport numpy as np\nprint(\"Sucessful\")"
        },
        {
            "cell_type": "markdown",
            "metadata": {},
            "source": "<h3>4. Print the following the statement: Hello Capstone Project Course!</h3>"
        },
        {
            "cell_type": "code",
            "execution_count": 5,
            "metadata": {},
            "outputs": [
                {
                    "name": "stdout",
                    "output_type": "stream",
                    "text": "Hello Capstone Project Course!\n"
                }
            ],
            "source": "print(\"Hello Capstone Project Course!\")"
        },
        {
            "cell_type": "markdown",
            "metadata": {},
            "source": "<h1 align=\"center\"><font size=\"5\"> Thank you very much!</font></h1>"
        },
        {
            "cell_type": "code",
            "execution_count": null,
            "metadata": {},
            "outputs": [],
            "source": ""
        }
    ],
    "metadata": {
        "kernelspec": {
            "display_name": "Python 3.6",
            "language": "python",
            "name": "python3"
        },
        "language_info": {
            "codemirror_mode": {
                "name": "ipython",
                "version": 3
            },
            "file_extension": ".py",
            "mimetype": "text/x-python",
            "name": "python",
            "nbconvert_exporter": "python",
            "pygments_lexer": "ipython3",
            "version": "3.6.9"
        }
    },
    "nbformat": 4,
    "nbformat_minor": 1
}